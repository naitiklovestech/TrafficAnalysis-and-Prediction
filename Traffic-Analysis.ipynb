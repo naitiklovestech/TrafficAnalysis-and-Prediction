{
  "cells": [
    {
      "cell_type": "markdown",
      "metadata": {},
      "source": "# Traffic Analysis and Prediction Model with YOLOv8\n\nThis notebook sets up a traffic analysis and prediction model using YOLOv8. It will:\n\n1. Load the dataset of traffic images.\n2. Train the YOLOv8 model.\n3. Detect cars in a continuous video stream from a CCTV camera.\n4. Show the density of cars.\n5. Continuously train the model with new data.\n"
    },
    {
      "cell_type": "code",
      "metadata": {},
      "source": "# Install necessary packages\n!pip install torch torchvision torchaudio\n!pip install opencv-python\n!pip install scikit-learn\n!pip install ultralytics"
    },
    {
      "cell_type": "markdown",
      "metadata": {},
      "source": "## Import Libraries"
    },
    {
      "cell_type": "code",
      "metadata": {},
      "source": "import torch\nimport cv2\nimport numpy as np\nfrom ultralytics import YOLO\nfrom sklearn.metrics import precision_score, recall_score, f1_score\nimport os\nimport time"
    },
    {
      "cell_type": "markdown",
      "metadata": {},
      "source": "## Load and Prepare Dataset"
    },
    {
      "cell_type": "code",
      "metadata": {},
      "source": "# Define paths\ntrain_dir = 'data/train'\nval_dir = 'data/val'\ntest_dir = 'data/test'\n\n# Create directories if they don't exist\nos.makedirs(train_dir, exist_ok=True)\nos.makedirs(val_dir, exist_ok=True)\nos.makedirs(test_dir, exist_ok=True)\n\n# Function to copy dataset files (Assuming dataset is already prepared)\ndef copy_dataset(source_dir, target_dir):\n    for filename in os.listdir(source_dir):\n        file_path = os.path.join(source_dir, filename)\n        if os.path.isfile(file_path):\n            shutil.copy(file_path, target_dir)\n\n# Copy dataset files (replace 'path_to_your_dataset' with the actual path)\ncopy_dataset('path_to_your_dataset/train', train_dir)\ncopy_dataset('path_to_your_dataset/val', val_dir)\ncopy_dataset('path_to_your_dataset/test', test_dir)"
    },
    {
      "cell_type": "markdown",
      "metadata": {},
      "source": "## Train YOLOv8 Model"
    },
    {
      "cell_type": "code",
      "metadata": {},
      "source": "# Define model configuration and hyperparameters\nmodel_config = 'models/yolov8.yaml'\n\n# Initialize model\nyolo_model = YOLO(model_config)\n\n# Train the model\nyolo_model.train(data=train_dir, val=val_dir, epochs=50, batch_size=16)\n\n# Save the trained model\nyolo_model.save('models/yolov8_trained.pth')"
    },
    {
      "cell_type": "markdown",
      "metadata": {},
      "source": "## Detect Cars in Continuous Video Stream and Show Density"
    },
    {
      "cell_type": "code",
      "metadata": {},
      "source": "# Function to calculate car density\ndef calculate_density(results, frame_shape):\n    car_count = len(results)\n    frame_area = frame_shape[0] * frame_shape[1]\n    density = car_count / frame_area\n    return density\n\n# Load the trained model\nyolo_model.load('models/yolov8_trained.pth')\n\n# Open video stream from CCTV camera (replace '0' with the actual camera URL if needed)\ncapture = cv2.VideoCapture(0)\n\nwhile True:\n    ret, frame = capture.read()\n    if not ret:\n        break\n    \n    # Perform detection\n    results = yolo_model.predict(frame)\n    \n    # Draw bounding boxes and calculate density\n    density = calculate_density(results, frame.shape)\n    for result in results:\n        x1, y1, x2, y2, conf, cls = result\n        cv2.rectangle(frame, (x1, y1), (x2, y2), (0, 255, 0), 2)\n    \n    # Display density on frame\n    cv2.putText(frame, f'Density: {density:.4f}', (10, 30), cv2.FONT_HERSHEY_SIMPLEX, 1, (0, 0, 255), 2)\n    \n    # Show frame\n    cv2.imshow('Traffic Detection', frame)\n    \n    # Press 'q' to quit\nda    if cv2.waitKey(1) & 0xFF == ord('q'):\n        break\n\ncapture.release()\ncv2.destroyAllWindows()"
    },
    {
      "cell_type": "markdown",
      "metadata": {},
      "source": "## Continuously Train Model with New Data"
    },
    {
      "cell_type": "code",
      "metadata": {},
      "source": "# Function to continuously train the model with new data\ndef continuous_training(model, new_data_dir, epochs=10):\n    model.train(data=new_data_dir, epochs=epochs, batch_size=16)\n    model.save('models/yolov8_continuously_trained.pth')\n\n# Example usage (replace 'path_to_new_data' with the actual path to new data)\ncontinuous_training(yolo_model, 'path_to_new_data')"
    },
    {
      "cell_type": "markdown",
      "metadata": {},
      "source": "## Evaluate Model"
    },
    {
      "cell_type": "code",
      "metadata": {},
      "source": "# Function to evaluate the model\ndef evaluate_model(model, test_data_dir):\n    y_true = []\n    y_pred = []\n    for image_path, labels in test_data_dir:\n        image = cv2.imread(image_path)\n        results = model.predict(image)\n        \n        y_true.extend(labels)\n        y_pred.extend([result[5] for result in results])\n    \n    # Calculate metrics\n    precision = precision_score(y_true, y_pred, average='weighted')\n    recall = recall_score(y_true, y_pred, average='weighted')\n    f1 = f1_score(y_true, y_pred, average='weighted')\n    \n    print(f'Precision: {precision:.2f}')\n    print(f'Recall: {recall:.2f}')\n    print(f'F1 Score: {f1:.2f}')\n\n# Evaluate the model\nevaluate_model(yolo_model, test_dir)"
    }
  ],
  "metadata": {
    "kernelspec": {
      "display_name": "Python 3",
      "language": "python",
      "name": "python3"
    },
    "language_info": {
      "codemirror_mode": {
        "name": "ipython",
        "version": 3
      },
      "file_extension": ".py",
      "mimetype": "text/x-python",
      "name": "python",
      "nbconvert_exporter": "python",
      "pygments_lexer": "ipython3",
      "version": "3.8.5"
    }
  },
  "nbformat": 4,
  "nbformat_minor": 4
}
