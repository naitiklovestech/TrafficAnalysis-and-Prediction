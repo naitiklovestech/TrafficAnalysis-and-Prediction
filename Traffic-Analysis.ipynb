{
 "cells": [
  {
   "cell_type": "code",
   "execution_count": 5,
   "id": "5453584a",
   "metadata": {},
   "outputs": [
    {
     "name": "stdout",
     "output_type": "stream",
     "text": [
      "Traceback (most recent call last):\r\n",
      "  File \"/Users/naitiksinghal/anaconda3/bin/yolo\", line 8, in <module>\r\n",
      "    sys.exit(entrypoint())\r\n",
      "             ^^^^^^^^^^^^\r\n",
      "  File \"/Users/naitiksinghal/anaconda3/lib/python3.11/site-packages/ultralytics/cfg/__init__.py\", line 532, in entrypoint\r\n",
      "    raise ValueError(f\"Invalid 'mode={mode}'. Valid modes are {MODES}.\\n{CLI_HELP_MSG}\")\r\n",
      "ValueError: Invalid 'mode=<module 'ultralytics.utils.checks' from '/Users/naitiksinghal/anaconda3/lib/python3.11/site-packages/ultralytics/utils/checks.py'>'. Valid modes are {'train', 'track', 'val', 'export', 'benchmark', 'predict'}.\r\n",
      "\r\n",
      "    Arguments received: ['yolo', 'mode', '=', 'checks']. Ultralytics 'yolo' commands use the following syntax:\r\n",
      "\r\n",
      "        yolo TASK MODE ARGS\r\n",
      "\r\n",
      "        Where   TASK (optional) is one of {'detect', 'classify', 'obb', 'segment', 'pose'}\r\n",
      "                MODE (required) is one of {'train', 'track', 'val', 'export', 'benchmark', 'predict'}\r\n",
      "                ARGS (optional) are any number of custom 'arg=value' pairs like 'imgsz=320' that override defaults.\r\n",
      "                    See all ARGS at https://docs.ultralytics.com/usage/cfg or with 'yolo cfg'\r\n",
      "\r\n",
      "    1. Train a detection model for 10 epochs with an initial learning_rate of 0.01\r\n",
      "        yolo train data=coco8.yaml model=yolov8n.pt epochs=10 lr0=0.01\r\n",
      "\r\n",
      "    2. Predict a YouTube video using a pretrained segmentation model at image size 320:\r\n",
      "        yolo predict model=yolov8n-seg.pt source='https://youtu.be/LNwODJXcvt4' imgsz=320\r\n",
      "\r\n",
      "    3. Val a pretrained detection model at batch-size 1 and image size 640:\r\n",
      "        yolo val model=yolov8n.pt data=coco8.yaml batch=1 imgsz=640\r\n",
      "\r\n",
      "    4. Export a YOLOv8n classification model to ONNX format at image size 224 by 128 (no TASK required)\r\n",
      "        yolo export model=yolov8n-cls.pt format=onnx imgsz=224,128\r\n",
      "\r\n",
      "    6. Explore your datasets using semantic search and SQL with a simple GUI powered by Ultralytics Explorer API\r\n",
      "        yolo explorer\r\n",
      "\r\n",
      "    5. Run special commands:\r\n",
      "        yolo help\r\n",
      "        yolo checks\r\n",
      "        yolo version\r\n",
      "        yolo settings\r\n",
      "        yolo copy-cfg\r\n",
      "        yolo cfg\r\n",
      "\r\n",
      "    Docs: https://docs.ultralytics.com\r\n",
      "    Community: https://community.ultralytics.com\r\n",
      "    GitHub: https://github.com/ultralytics/ultralytics\r\n",
      "    \r\n"
     ]
    }
   ],
   "source": [
    "from ultralytics import YOLO\n",
    "import os\n",
    "from IPython.display import display, Image\n",
    "from Ipython import display\n",
    "display.clear_output()\n",
    "!yolo mode = checks"
   ]
  },
  {
   "cell_type": "code",
   "execution_count": null,
   "id": "efb39a0c",
   "metadata": {},
   "outputs": [],
   "source": []
  }
 ],
 "metadata": {
  "kernelspec": {
   "display_name": "Python 3 (ipykernel)",
   "language": "python",
   "name": "python3"
  },
  "language_info": {
   "codemirror_mode": {
    "name": "ipython",
    "version": 3
   },
   "file_extension": ".py",
   "mimetype": "text/x-python",
   "name": "python",
   "nbconvert_exporter": "python",
   "pygments_lexer": "ipython3",
   "version": "3.11.3"
  }
 },
 "nbformat": 4,
 "nbformat_minor": 5
}
